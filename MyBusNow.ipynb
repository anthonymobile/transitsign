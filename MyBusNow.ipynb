{
 "cells": [
  {
   "cell_type": "code",
   "execution_count": 1,
   "metadata": {
    "collapsed": false
   },
   "outputs": [],
   "source": [
    "import urllib2;\n",
    "import xml.etree.ElementTree"
   ]
  },
  {
   "cell_type": "code",
   "execution_count": 2,
   "metadata": {
    "collapsed": false
   },
   "outputs": [],
   "source": [
    "arrivals_url = 'http://mybusnow.njtransit.com/bustime/eta/getStopPredictionsETA.jsp?route=all&stop=21374&key=0.3003391435305782'"
   ]
  },
  {
   "cell_type": "code",
   "execution_count": 3,
   "metadata": {
    "collapsed": false
   },
   "outputs": [
    {
     "name": "stderr",
     "output_type": "stream",
     "text": [
      "/Users/anthonytownsend/Code-Local/anaconda2/lib/python2.7/site-packages/ipykernel/__main__.py:8: DeprecationWarning: This method will be removed in future versions.  Use 'list(elem)' or iteration over elem instead.\n"
     ]
    }
   ],
   "source": [
    "data = urllib2.urlopen(arrivals_url).read()\n",
    "\n",
    "arrivals = []\n",
    "\n",
    "e = xml.etree.ElementTree.fromstring(data)\n",
    "for atype in e.findall('pre'):\n",
    "    fields = { }\n",
    "    for field in atype.getchildren():\n",
    "        if field.tag not in fields and hasattr(field, 'text'):\n",
    "            if field.text is None:\n",
    "                fields[field.tag] = ''\n",
    "                continue\n",
    "            fields[field.tag] = field.text\n",
    "\n",
    "    arrivals.append(fields)"
   ]
  },
  {
   "cell_type": "code",
   "execution_count": 4,
   "metadata": {
    "collapsed": false
   },
   "outputs": [
    {
     "name": "stdout",
     "output_type": "stream",
     "text": [
      "[{'scheduled': 'false', 'pt': '3', 'consist': '', 'pu': ' MINUTES', 'cars': '', 'rd': '128', 'fd': ' 128 NORTH BERGEN VIA BLVD EAST', 'mode': '1', 'nextbusonroutetime': '5:54 PM', 'v': '9042', 'nextbusminutes': '0', 'rn': '128', 'zone': ''}, {'scheduled': 'false', 'pt': '6', 'consist': '', 'pu': ' MINUTES', 'cars': '', 'rd': '166', 'fd': ' 166 RIDGEFIELD  COLUMBIA AVE', 'mode': '1', 'nextbusonroutetime': '6:04 PM', 'v': '8231', 'nextbusminutes': '0', 'rn': '166', 'zone': ''}, {'scheduled': 'false', 'pt': '8', 'consist': '', 'pu': ' MINUTES', 'cars': '', 'rd': '23', 'fd': ' 23 NORTH BERGEN', 'mode': '1', 'nextbusonroutetime': '5:57 PM', 'v': '6014', 'nextbusminutes': '0', 'rn': '23', 'zone': ''}, {'scheduled': 'false', 'pt': '12', 'consist': '', 'pu': ' MINUTES', 'cars': '', 'rd': '166', 'fd': ' 166 RIDGEFIELD  COLUMBIA AVE', 'mode': '1', 'nextbusonroutetime': '6:14 PM', 'v': '7603', 'nextbusminutes': '0', 'rn': '166', 'zone': ''}, {'scheduled': 'false', 'pt': '15', 'consist': '', 'pu': ' MINUTES', 'cars': '', 'rd': '128', 'fd': ' 128 NORTH BERGEN VIA BLVD EAST', 'mode': '1', 'nextbusonroutetime': '5:54 PM', 'v': '8242', 'nextbusminutes': '0', 'rn': '128', 'zone': ''}, {'scheduled': 'false', 'pt': '20', 'consist': '', 'pu': ' MINUTES', 'cars': '', 'rd': '166', 'fd': ' 166 RIDGEFIELD  COLUMBIA AVE', 'mode': '1', 'nextbusonroutetime': '6:09 PM', 'v': '7127', 'nextbusminutes': '0', 'rn': '166', 'zone': ''}, {'scheduled': 'false', 'pt': '20', 'consist': '', 'pu': ' MINUTES', 'cars': '', 'rd': '128', 'fd': ' 128 NORTH BERGEN VIA BLVD EAST', 'mode': '1', 'nextbusonroutetime': '6:24 PM', 'v': '7790', 'nextbusminutes': '0', 'rn': '128', 'zone': ''}, {'scheduled': 'false', 'pt': '22', 'consist': '', 'pu': ' MINUTES', 'cars': '', 'rd': '166', 'fd': ' 166 CRESSKILL', 'mode': '1', 'nextbusonroutetime': '6:24 PM', 'v': '7581', 'nextbusminutes': '0', 'rn': '166', 'zone': ''}, {'scheduled': 'false', 'pt': '24', 'consist': '', 'pu': ' MINUTES', 'cars': '', 'rd': '166', 'fd': ' 166 RIDGEFIELD  COLUMBIA AVE', 'mode': '1', 'nextbusonroutetime': '6:19 PM', 'v': '7123', 'nextbusminutes': '0', 'rn': '166', 'zone': ''}, {'scheduled': 'false', 'pt': '24', 'consist': '', 'pu': ' MINUTES', 'cars': '', 'rd': '128', 'fd': ' 128 NORTH BERGEN VIA BLVD EAST', 'mode': '1', 'nextbusonroutetime': '5:51 PM', 'v': '8208', 'nextbusminutes': '0', 'rn': '128', 'zone': ''}, {'scheduled': 'false', 'pt': '25', 'consist': '', 'pu': ' MINUTES', 'cars': '', 'rd': '128', 'fd': ' 128 NORTH BERGEN VIA BLVD EAST', 'mode': '1', 'nextbusonroutetime': '6:14 PM', 'v': '7117', 'nextbusminutes': '0', 'rn': '128', 'zone': ''}, {'scheduled': 'false', 'pt': '26', 'consist': '', 'pu': ' MINUTES', 'cars': '', 'rd': '128', 'fd': ' 128 NORTH BERGEN VIA BLVD EAST', 'mode': '1', 'nextbusonroutetime': '6:29 PM', 'v': '9048', 'nextbusminutes': '0', 'rn': '128', 'zone': ''}, {'scheduled': 'false', 'pt': '27', 'consist': '', 'pu': ' MINUTES', 'cars': '', 'rd': '128', 'fd': ' 128 NORTH BERGEN VIA BLVD EAST', 'mode': '1', 'nextbusonroutetime': '6:24 PM', 'v': '7423', 'nextbusminutes': '0', 'rn': '128', 'zone': ''}]\n"
     ]
    }
   ],
   "source": [
    "print arrivals"
   ]
  },
  {
   "cell_type": "code",
   "execution_count": null,
   "metadata": {
    "collapsed": true
   },
   "outputs": [],
   "source": []
  }
 ],
 "metadata": {
  "anaconda-cloud": {},
  "kernelspec": {
   "display_name": "Python [conda root]",
   "language": "python",
   "name": "conda-root-py"
  },
  "language_info": {
   "codemirror_mode": {
    "name": "ipython",
    "version": 2
   },
   "file_extension": ".py",
   "mimetype": "text/x-python",
   "name": "python",
   "nbconvert_exporter": "python",
   "pygments_lexer": "ipython2",
   "version": "2.7.12"
  }
 },
 "nbformat": 4,
 "nbformat_minor": 1
}
