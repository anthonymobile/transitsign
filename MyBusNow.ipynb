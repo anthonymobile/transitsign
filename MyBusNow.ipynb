{
 "cells": [
  {
   "cell_type": "code",
   "execution_count": 1,
   "metadata": {
    "collapsed": false
   },
   "outputs": [],
   "source": [
    "import urllib2;\n",
    "import xml.etree.ElementTree"
   ]
  },
  {
   "cell_type": "code",
   "execution_count": 2,
   "metadata": {
    "collapsed": false
   },
   "outputs": [],
   "source": [
    "arrivals_url = 'http://mybusnow.njtransit.com/bustime/eta/getStopPredictionsETA.jsp?route=all&stop=21374&key=0.3003391435305782'"
   ]
  },
  {
   "cell_type": "code",
   "execution_count": 3,
   "metadata": {
    "collapsed": false
   },
   "outputs": [
    {
     "name": "stderr",
     "output_type": "stream",
     "text": [
      "/Users/anthonytownsend/Code-Local/anaconda2/lib/python2.7/site-packages/ipykernel/__main__.py:8: DeprecationWarning: This method will be removed in future versions.  Use 'list(elem)' or iteration over elem instead.\n"
     ]
    }
   ],
   "source": [
    "data = urllib2.urlopen(arrivals_url).read()\n",
    "\n",
    "arrivals = []\n",
    "\n",
    "e = xml.etree.ElementTree.fromstring(data)\n",
    "for atype in e.findall('pre'):\n",
    "    fields = { }\n",
    "    for field in atype.getchildren():\n",
    "        if field.tag not in fields and hasattr(field, 'text'):\n",
    "            if field.text is None:\n",
    "                fields[field.tag] = ''\n",
    "                continue\n",
    "            fields[field.tag] = field.text\n",
    "\n",
    "    arrivals.append(fields)"
   ]
  },
  {
   "cell_type": "code",
   "execution_count": 4,
   "metadata": {
    "collapsed": false
   },
   "outputs": [
    {
     "name": "stdout",
     "output_type": "stream",
     "text": [
      "[{'scheduled': 'false', 'pt': '7', 'consist': '', 'pu': ' MINUTES', 'cars': '', 'rd': '128', 'fd': ' 128 NORTH BERGEN VIA BLVD EAST', 'mode': '1', 'nextbusonroutetime': '8:50 PM', 'v': '8231', 'nextbusminutes': '0', 'rn': '128', 'zone': ''}, {'scheduled': 'false', 'pt': '11', 'consist': '', 'pu': ' MINUTES', 'cars': '', 'rd': '128', 'fd': ' 128 NORTH BERGEN VIA BLVD EAST', 'mode': '1', 'nextbusonroutetime': '9:20 PM', 'v': '9040', 'nextbusminutes': '0', 'rn': '128', 'zone': ''}, {'scheduled': 'false', 'pt': '17', 'consist': '', 'pu': ' MINUTES', 'cars': '', 'rd': '165', 'fd': ' 165 WESTWOOD', 'mode': '1', 'nextbusonroutetime': '9:25 PM', 'v': '7824', 'nextbusminutes': '0', 'rn': '165', 'zone': ''}, {'scheduled': 'false', 'pt': '&nbsp;', 'consist': '', 'pu': 'DELAYED', 'cars': '', 'rd': '128', 'fd': ' 128 NORTH BERGEN VIA BLVD EAST', 'mode': '1', 'nextbusonroutetime': '9:17 PM', 'v': '5203', 'nextbusminutes': '0', 'rn': '128', 'zone': ''}, {'scheduled': 'false', 'pt': '&nbsp;', 'consist': '', 'pu': 'DELAYED', 'cars': '', 'rd': '168', 'fd': ' 168 PARAMUS FARVIEW AVE', 'mode': '1', 'nextbusonroutetime': '9:15 PM', 'v': '7877', 'nextbusminutes': '0', 'rn': '168', 'zone': ''}]\n"
     ]
    }
   ],
   "source": [
    "print arrivals"
   ]
  },
  {
   "cell_type": "code",
   "execution_count": null,
   "metadata": {
    "collapsed": true
   },
   "outputs": [],
   "source": []
  }
 ],
 "metadata": {
  "anaconda-cloud": {},
  "kernelspec": {
   "display_name": "Python [conda root]",
   "language": "python",
   "name": "conda-root-py"
  },
  "language_info": {
   "codemirror_mode": {
    "name": "ipython",
    "version": 2
   },
   "file_extension": ".py",
   "mimetype": "text/x-python",
   "name": "python",
   "nbconvert_exporter": "python",
   "pygments_lexer": "ipython2",
   "version": "2.7.12"
  }
 },
 "nbformat": 4,
 "nbformat_minor": 1
}
