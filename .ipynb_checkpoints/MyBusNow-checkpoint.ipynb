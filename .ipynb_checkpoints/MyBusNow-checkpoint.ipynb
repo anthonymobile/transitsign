{
 "cells": [
  {
   "cell_type": "code",
   "execution_count": 36,
   "metadata": {
    "collapsed": false
   },
   "outputs": [],
   "source": [
    "import urllib2;\n",
    "import xml.etree.ElementTree"
   ]
  },
  {
   "cell_type": "code",
   "execution_count": 42,
   "metadata": {
    "collapsed": false
   },
   "outputs": [],
   "source": [
    "arrivals_url = 'http://mybusnow.njtransit.com/bustime/eta/getStopPredictionsETA.jsp?route=all&stop=21374&key=0.3003391435305782'"
   ]
  },
  {
   "cell_type": "code",
   "execution_count": 45,
   "metadata": {
    "collapsed": false
   },
   "outputs": [
    {
     "name": "stderr",
     "output_type": "stream",
     "text": [
      "/Users/anthonytownsend/Code-Local/anaconda2/lib/python2.7/site-packages/ipykernel/__main__.py:8: DeprecationWarning: This method will be removed in future versions.  Use 'list(elem)' or iteration over elem instead.\n"
     ]
    }
   ],
   "source": [
    "data = urllib2.urlopen(arrivals_url).read()\n",
    "\n",
    "arrivals = []\n",
    "\n",
    "e = xml.etree.ElementTree.fromstring(data)\n",
    "for atype in e.findall('pre'):\n",
    "    fields = { }\n",
    "    for field in atype.getchildren():\n",
    "        if field.tag not in fields and hasattr(field, 'text'):\n",
    "            if field.text is None:\n",
    "                fields[field.tag] = ''\n",
    "                continue\n",
    "            fields[field.tag] = field.text\n",
    "\n",
    "    arrivals.append(fields)"
   ]
  },
  {
   "cell_type": "code",
   "execution_count": 46,
   "metadata": {
    "collapsed": false
   },
   "outputs": [
    {
     "name": "stdout",
     "output_type": "stream",
     "text": [
      "[{'scheduled': 'false', 'pt': '1', 'consist': '', 'pu': ' MINUTE', 'cars': '', 'rd': '128', 'fd': ' 128 NORTH BERGEN VIA BLVD EAST', 'mode': '1', 'nextbusonroutetime': '9:28 PM', 'v': '7175', 'nextbusminutes': '0', 'rn': '128', 'zone': ''}, {'scheduled': 'false', 'pt': '5', 'consist': '', 'pu': ' MINUTES', 'cars': '', 'rd': '168', 'fd': ' 168 PARAMUS FARVIEW AVE', 'mode': '1', 'nextbusonroutetime': '9:15 PM', 'v': '7704', 'nextbusminutes': '0', 'rn': '168', 'zone': ''}, {'scheduled': 'false', 'pt': '22', 'consist': '', 'pu': ' MINUTES', 'cars': '', 'rd': '128', 'fd': ' 128 NORTH BERGEN VIA BLVD EAST', 'mode': '1', 'nextbusonroutetime': '9:40 PM', 'v': '7435', 'nextbusminutes': '0', 'rn': '128', 'zone': ''}, {'scheduled': 'false', 'pt': '22', 'consist': '', 'pu': ' MINUTES', 'cars': '', 'rd': '166', 'fd': ' 166 DUMONT', 'mode': '1', 'nextbusonroutetime': '9:38 PM', 'v': '7703', 'nextbusminutes': '0', 'rn': '166', 'zone': ''}, {'scheduled': 'false', 'pt': '24', 'consist': '', 'pu': ' MINUTES', 'cars': '', 'rd': '165', 'fd': ' 165 WESTWOOD', 'mode': '1', 'nextbusonroutetime': '9:52 PM', 'v': '7722', 'nextbusminutes': '0', 'rn': '165', 'zone': ''}]\n"
     ]
    }
   ],
   "source": [
    "print arrivals"
   ]
  },
  {
   "cell_type": "code",
   "execution_count": null,
   "metadata": {
    "collapsed": true
   },
   "outputs": [],
   "source": []
  }
 ],
 "metadata": {
  "anaconda-cloud": {},
  "kernelspec": {
   "display_name": "Python [conda root]",
   "language": "python",
   "name": "conda-root-py"
  },
  "language_info": {
   "codemirror_mode": {
    "name": "ipython",
    "version": 2
   },
   "file_extension": ".py",
   "mimetype": "text/x-python",
   "name": "python",
   "nbconvert_exporter": "python",
   "pygments_lexer": "ipython2",
   "version": "2.7.12"
  }
 },
 "nbformat": 4,
 "nbformat_minor": 1
}
